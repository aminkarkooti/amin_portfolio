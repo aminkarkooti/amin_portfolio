{
 "cells": [
  {
   "cell_type": "code",
   "execution_count": 1,
   "id": "434542ed",
   "metadata": {},
   "outputs": [],
   "source": [
    "import os\n",
    "os.chdir('c:\\\\users\\\\amink\\\\desktop\\\\Pandas_demo')"
   ]
  },
  {
   "cell_type": "code",
   "execution_count": 2,
   "id": "83928d71",
   "metadata": {},
   "outputs": [],
   "source": [
    "import pandas as pd\n",
    "import matplotlib.pyplot as plt\n",
    " "
   ]
  },
  {
   "cell_type": "code",
   "execution_count": 3,
   "id": "b8e0d3ff",
   "metadata": {},
   "outputs": [],
   "source": [
    "path= 'c:\\\\users\\\\amink\\\\desktop\\\\Pandas_demo\\\\headphone_total.xlsx'\n",
    "df=pd.read_excel(path)"
   ]
  },
  {
   "cell_type": "code",
   "execution_count": 4,
   "id": "da2730b9",
   "metadata": {},
   "outputs": [],
   "source": [
    "#df_total=pd.DataFrame()\n",
    "#for i in range(22):\n",
    "#    path=f'c:\\\\users\\\\amink\\\\desktop\\\\Pandas_demo\\\\Amazonscraping\\\\headphones{i}.xlsx'\n",
    "#    temp=pd.read_excel(path)\n",
    "#    df_total= df_total.append(temp,sort=False,ignore_index=True)"
   ]
  },
  {
   "cell_type": "code",
   "execution_count": 5,
   "id": "167fbfaa",
   "metadata": {},
   "outputs": [
    {
     "data": {
      "text/plain": [
       "0"
      ]
     },
     "execution_count": 5,
     "metadata": {},
     "output_type": "execute_result"
    }
   ],
   "source": [
    "df['body'].str.isspace().sum()"
   ]
  },
  {
   "cell_type": "code",
   "execution_count": 6,
   "id": "0d96c446",
   "metadata": {},
   "outputs": [
    {
     "data": {
      "text/plain": [
       "Unnamed: 0     0\n",
       "product        0\n",
       "title          1\n",
       "rating         0\n",
       "body          13\n",
       "dtype: int64"
      ]
     },
     "execution_count": 6,
     "metadata": {},
     "output_type": "execute_result"
    }
   ],
   "source": [
    "df.isna().sum()"
   ]
  },
  {
   "cell_type": "code",
   "execution_count": 7,
   "id": "8fd0046c",
   "metadata": {},
   "outputs": [],
   "source": [
    "df.dropna(inplace=True)"
   ]
  },
  {
   "cell_type": "code",
   "execution_count": 8,
   "id": "536135ab",
   "metadata": {},
   "outputs": [],
   "source": [
    "df['text']=df['title']+' '+df['body']"
   ]
  },
  {
   "cell_type": "code",
   "execution_count": 11,
   "id": "066432e9",
   "metadata": {},
   "outputs": [
    {
     "data": {
      "text/html": [
       "<div>\n",
       "<style scoped>\n",
       "    .dataframe tbody tr th:only-of-type {\n",
       "        vertical-align: middle;\n",
       "    }\n",
       "\n",
       "    .dataframe tbody tr th {\n",
       "        vertical-align: top;\n",
       "    }\n",
       "\n",
       "    .dataframe thead th {\n",
       "        text-align: right;\n",
       "    }\n",
       "</style>\n",
       "<table border=\"1\" class=\"dataframe\">\n",
       "  <thead>\n",
       "    <tr style=\"text-align: right;\">\n",
       "      <th></th>\n",
       "      <th>product</th>\n",
       "      <th>title</th>\n",
       "      <th>rating</th>\n",
       "      <th>body</th>\n",
       "      <th>text</th>\n",
       "    </tr>\n",
       "  </thead>\n",
       "  <tbody>\n",
       "    <tr>\n",
       "      <th>0</th>\n",
       "      <td>Sony WH-1000XM4 Wireless Industry Leading Nois...</td>\n",
       "      <td>Love them.</td>\n",
       "      <td>3</td>\n",
       "      <td>Coming from the 1000XM2 there are some differe...</td>\n",
       "      <td>Love them. Coming from the 1000XM2 there are s...</td>\n",
       "    </tr>\n",
       "    <tr>\n",
       "      <th>1</th>\n",
       "      <td>Sony WH-1000XM4 Wireless Industry Leading Nois...</td>\n",
       "      <td>Buy this thing for noise cancelation!</td>\n",
       "      <td>5</td>\n",
       "      <td>If you are looking for noise cancelation at it...</td>\n",
       "      <td>Buy this thing for noise cancelation! If you a...</td>\n",
       "    </tr>\n",
       "    <tr>\n",
       "      <th>2</th>\n",
       "      <td>Sony WH-1000XM4 Wireless Industry Leading Nois...</td>\n",
       "      <td>Microphones useless for Zoom/Teams/WebEx/Skype...</td>\n",
       "      <td>1</td>\n",
       "      <td>I wanted to replace my old Bose in-ear noise c...</td>\n",
       "      <td>Microphones useless for Zoom/Teams/WebEx/Skype...</td>\n",
       "    </tr>\n",
       "    <tr>\n",
       "      <th>3</th>\n",
       "      <td>Sony WH-1000XM4 Wireless Industry Leading Nois...</td>\n",
       "      <td>Fantastic Headphones, Garbage Microphone</td>\n",
       "      <td>3</td>\n",
       "      <td>Let me start by saying that I love virtually e...</td>\n",
       "      <td>Fantastic Headphones, Garbage Microphone Let m...</td>\n",
       "    </tr>\n",
       "    <tr>\n",
       "      <th>4</th>\n",
       "      <td>Sony WH-1000XM4 Wireless Industry Leading Nois...</td>\n",
       "      <td>Francais # english review</td>\n",
       "      <td>4</td>\n",
       "      <td>J'étais habitué d'écrire mes reviews en anglai...</td>\n",
       "      <td>Francais # english review J'étais habitué d'éc...</td>\n",
       "    </tr>\n",
       "    <tr>\n",
       "      <th>...</th>\n",
       "      <td>...</td>\n",
       "      <td>...</td>\n",
       "      <td>...</td>\n",
       "      <td>...</td>\n",
       "      <td>...</td>\n",
       "    </tr>\n",
       "    <tr>\n",
       "      <th>21187</th>\n",
       "      <td>Amazon.com: Customer reviews: 3M WorkTunes Con...</td>\n",
       "      <td>Decent but quiet</td>\n",
       "      <td>3</td>\n",
       "      <td>These are pretty comfortable but if you’re loo...</td>\n",
       "      <td>Decent but quiet These are pretty comfortable ...</td>\n",
       "    </tr>\n",
       "    <tr>\n",
       "      <th>21188</th>\n",
       "      <td>Amazon.com: Customer reviews: 3M WorkTunes Con...</td>\n",
       "      <td>Avg</td>\n",
       "      <td>3</td>\n",
       "      <td>A little disappointed with the sound reduction...</td>\n",
       "      <td>Avg A little disappointed with the sound reduc...</td>\n",
       "    </tr>\n",
       "    <tr>\n",
       "      <th>21189</th>\n",
       "      <td>Amazon.com: Customer reviews: 3M WorkTunes Con...</td>\n",
       "      <td>Fine for most applications just not loud enoug...</td>\n",
       "      <td>3</td>\n",
       "      <td>Wish they were a little louder. Fine for most ...</td>\n",
       "      <td>Fine for most applications just not loud enoug...</td>\n",
       "    </tr>\n",
       "    <tr>\n",
       "      <th>21190</th>\n",
       "      <td>Amazon.com: Customer reviews: 3M WorkTunes Con...</td>\n",
       "      <td>Good headphones! But only lasted 1 year</td>\n",
       "      <td>3</td>\n",
       "      <td>Edit:My first pair lasted about 10 months befo...</td>\n",
       "      <td>Good headphones! But only lasted 1 year Edit:M...</td>\n",
       "    </tr>\n",
       "    <tr>\n",
       "      <th>21191</th>\n",
       "      <td>Amazon.com: Customer reviews: 3M WorkTunes Con...</td>\n",
       "      <td>So far so good</td>\n",
       "      <td>3</td>\n",
       "      <td>Works pretty well so far.*edit*. 3/12/21.  Blu...</td>\n",
       "      <td>So far so good Works pretty well so far.*edit*...</td>\n",
       "    </tr>\n",
       "  </tbody>\n",
       "</table>\n",
       "<p>21178 rows × 5 columns</p>\n",
       "</div>"
      ],
      "text/plain": [
       "                                                 product  \\\n",
       "0      Sony WH-1000XM4 Wireless Industry Leading Nois...   \n",
       "1      Sony WH-1000XM4 Wireless Industry Leading Nois...   \n",
       "2      Sony WH-1000XM4 Wireless Industry Leading Nois...   \n",
       "3      Sony WH-1000XM4 Wireless Industry Leading Nois...   \n",
       "4      Sony WH-1000XM4 Wireless Industry Leading Nois...   \n",
       "...                                                  ...   \n",
       "21187  Amazon.com: Customer reviews: 3M WorkTunes Con...   \n",
       "21188  Amazon.com: Customer reviews: 3M WorkTunes Con...   \n",
       "21189  Amazon.com: Customer reviews: 3M WorkTunes Con...   \n",
       "21190  Amazon.com: Customer reviews: 3M WorkTunes Con...   \n",
       "21191  Amazon.com: Customer reviews: 3M WorkTunes Con...   \n",
       "\n",
       "                                                   title  rating  \\\n",
       "0                                             Love them.       3   \n",
       "1                  Buy this thing for noise cancelation!       5   \n",
       "2      Microphones useless for Zoom/Teams/WebEx/Skype...       1   \n",
       "3               Fantastic Headphones, Garbage Microphone       3   \n",
       "4                              Francais # english review       4   \n",
       "...                                                  ...     ...   \n",
       "21187                                   Decent but quiet       3   \n",
       "21188                                                Avg       3   \n",
       "21189  Fine for most applications just not loud enoug...       3   \n",
       "21190            Good headphones! But only lasted 1 year       3   \n",
       "21191                                     So far so good       3   \n",
       "\n",
       "                                                    body  \\\n",
       "0      Coming from the 1000XM2 there are some differe...   \n",
       "1      If you are looking for noise cancelation at it...   \n",
       "2      I wanted to replace my old Bose in-ear noise c...   \n",
       "3      Let me start by saying that I love virtually e...   \n",
       "4      J'étais habitué d'écrire mes reviews en anglai...   \n",
       "...                                                  ...   \n",
       "21187  These are pretty comfortable but if you’re loo...   \n",
       "21188  A little disappointed with the sound reduction...   \n",
       "21189  Wish they were a little louder. Fine for most ...   \n",
       "21190  Edit:My first pair lasted about 10 months befo...   \n",
       "21191  Works pretty well so far.*edit*. 3/12/21.  Blu...   \n",
       "\n",
       "                                                    text  \n",
       "0      Love them. Coming from the 1000XM2 there are s...  \n",
       "1      Buy this thing for noise cancelation! If you a...  \n",
       "2      Microphones useless for Zoom/Teams/WebEx/Skype...  \n",
       "3      Fantastic Headphones, Garbage Microphone Let m...  \n",
       "4      Francais # english review J'étais habitué d'éc...  \n",
       "...                                                  ...  \n",
       "21187  Decent but quiet These are pretty comfortable ...  \n",
       "21188  Avg A little disappointed with the sound reduc...  \n",
       "21189  Fine for most applications just not loud enoug...  \n",
       "21190  Good headphones! But only lasted 1 year Edit:M...  \n",
       "21191  So far so good Works pretty well so far.*edit*...  \n",
       "\n",
       "[21178 rows x 5 columns]"
      ]
     },
     "execution_count": 11,
     "metadata": {},
     "output_type": "execute_result"
    }
   ],
   "source": [
    "df"
   ]
  },
  {
   "cell_type": "code",
   "execution_count": 12,
   "id": "494db28b",
   "metadata": {},
   "outputs": [
    {
     "name": "stdout",
     "output_type": "stream",
     "text": [
      "<class 'pandas.core.frame.DataFrame'>\n",
      "Int64Index: 21178 entries, 0 to 21191\n",
      "Data columns (total 5 columns):\n",
      " #   Column   Non-Null Count  Dtype \n",
      "---  ------   --------------  ----- \n",
      " 0   product  21178 non-null  object\n",
      " 1   title    21178 non-null  object\n",
      " 2   rating   21178 non-null  int64 \n",
      " 3   body     21178 non-null  object\n",
      " 4   text     21178 non-null  object\n",
      "dtypes: int64(1), object(4)\n",
      "memory usage: 992.7+ KB\n"
     ]
    }
   ],
   "source": [
    "df.info()"
   ]
  },
  {
   "cell_type": "code",
   "execution_count": 13,
   "id": "27b48b07",
   "metadata": {},
   "outputs": [
    {
     "data": {
      "text/plain": [
       "5    0.460808\n",
       "4    0.176457\n",
       "1    0.147417\n",
       "3    0.124044\n",
       "2    0.091274\n",
       "Name: rating, dtype: float64"
      ]
     },
     "execution_count": 13,
     "metadata": {},
     "output_type": "execute_result"
    }
   ],
   "source": [
    "df['rating'].value_counts(normalize=True)"
   ]
  },
  {
   "cell_type": "code",
   "execution_count": 14,
   "id": "e8f6585e",
   "metadata": {},
   "outputs": [
    {
     "data": {
      "image/png": "[encoded data removed]",
      "text/plain": [
       "<Figure size 576x432 with 1 Axes>"
      ]
     },
     "metadata": {},
     "output_type": "display_data"
    }
   ],
   "source": [
    "slices= df['rating'].value_counts()/len(df)*100\n",
    "label = ['5','4','3','2','1']\n",
    "\n",
    "fig, ax = plt.subplots(figsize=(8, 6), subplot_kw=dict(aspect=\"equal\"))\n",
    "\n",
    "plt.pie(slices, labels=label,autopct='%1.1f%%', pctdistance=0.85)\n",
    "circle = plt.Circle( (0,0), 0.7, color='white')\n",
    "p=plt.gcf()\n",
    "p.gca().add_artist(circle)\n",
    "ax.set_title(\"Review Comments Rating\",fontdict={'fontsize': 16})\n",
    "plt.tight_layout()\n",
    "plt.show();"
   ]
  },
  {
   "cell_type": "code",
   "execution_count": 15,
   "id": "a2742d95",
   "metadata": {},
   "outputs": [
    {
     "data": {
      "image/png": "[encoded data removed]",
      "text/plain": [
       "<Figure size 432x288 with 1 Axes>"
      ]
     },
     "metadata": {},
     "output_type": "display_data"
    }
   ],
   "source": [
    "slices= df['rating'].value_counts()/len(df)*100\n",
    "labels = ['5','4','3','2',1]\n",
    "#plt.title('Review Comments Rating',fontdict={'fontsize': 19})\n",
    "colors=['#C03028','lightseagreen','#B8A038','#78C850','#F08030']\n",
    "\n",
    "plt.pie(slices,labels=labels,colors=colors,startangle=90,\n",
    "       shadow='true', explode=(0.1,0,0,0,0),radius=1.3,autopct='%1.1f%%',pctdistance=0.6);"
   ]
  },
  {
   "cell_type": "markdown",
   "id": "77706d9d",
   "metadata": {},
   "source": [
    "#Hexa color code for Seaborn:\n",
    "    \n",
    "'#78C850', # Grass\n",
    "'#F08030', # Fire\n",
    "'#6890F0', # Water\n",
    "'#A8B820', # Bug\n",
    "'#A8A878', # Normal\n",
    "'#A040A0', # Poison\n",
    "'#F8D030', # Electric\n",
    "'#E0C068', # Ground\n",
    "'#EE99AC', # Fairy\n",
    "'#C03028', # Fighting\n",
    "'#F85888', # Psychic\n",
    "'#B8A038', # Rock\n",
    "'#705898', # Ghost\n",
    "'#98D8D8', # Ice\n",
    "'#7038F8', # Dragon"
   ]
  },
  {
   "cell_type": "code",
   "execution_count": 47,
   "id": "3fdadeb2",
   "metadata": {},
   "outputs": [
    {
     "data": {
      "text/plain": [
       "21178"
      ]
     },
     "execution_count": 47,
     "metadata": {},
     "output_type": "execute_result"
    }
   ],
   "source": [
    "len(df['rating'])"
   ]
  },
  {
   "cell_type": "code",
   "execution_count": 48,
   "id": "9700dfda",
   "metadata": {},
   "outputs": [
    {
     "data": {
      "text/plain": [
       "product    0.460808\n",
       "title      0.460808\n",
       "rating     0.460808\n",
       "body       0.460808\n",
       "text       0.460808\n",
       "dtype: float64"
      ]
     },
     "execution_count": 48,
     "metadata": {},
     "output_type": "execute_result"
    }
   ],
   "source": [
    "df.groupby('rating').get_group(5).count()/len(df)"
   ]
  },
  {
   "cell_type": "code",
   "execution_count": 49,
   "id": "ebbdec83",
   "metadata": {},
   "outputs": [],
   "source": [
    "# term frequency and inverse document frequency (TF-IDF)"
   ]
  },
  {
   "cell_type": "code",
   "execution_count": 50,
   "id": "4da46f3e",
   "metadata": {},
   "outputs": [],
   "source": [
    "from sklearn.feature_extraction.text import CountVectorizer"
   ]
  },
  {
   "cell_type": "code",
   "execution_count": 51,
   "id": "3f4733ec",
   "metadata": {},
   "outputs": [],
   "source": [
    "cntv = CountVectorizer(stop_words='english')"
   ]
  },
  {
   "cell_type": "code",
   "execution_count": 52,
   "id": "c345785f",
   "metadata": {},
   "outputs": [
    {
     "data": {
      "text/plain": [
       "<21178x20230 sparse matrix of type '<class 'numpy.int64'>'\n",
       "\twith 532515 stored elements in Compressed Sparse Row format>"
      ]
     },
     "execution_count": 52,
     "metadata": {},
     "output_type": "execute_result"
    }
   ],
   "source": [
    "counts = cntv.fit_transform(df['text'])\n",
    "counts"
   ]
  },
  {
   "cell_type": "code",
   "execution_count": 53,
   "id": "9f49a047",
   "metadata": {},
   "outputs": [
    {
     "data": {
      "text/plain": [
       "20230"
      ]
     },
     "execution_count": 53,
     "metadata": {},
     "output_type": "execute_result"
    }
   ],
   "source": [
    "len(cntv.vocabulary_)"
   ]
  },
  {
   "cell_type": "code",
   "execution_count": 54,
   "id": "f9de46d8",
   "metadata": {},
   "outputs": [],
   "source": [
    "freqs = zip(cntv.get_feature_names(), counts.sum(axis=0).tolist()[0])    \n",
    "# sort from largest to smallest Top 20 words used in reviews\n",
    "list_a=sorted(freqs, key=lambda x: -x[1])[:20]"
   ]
  },
  {
   "cell_type": "code",
   "execution_count": 55,
   "id": "e1c05bf4",
   "metadata": {},
   "outputs": [],
   "source": [
    "al=[]\n",
    "bl=[]\n",
    "for (a,b) in list_a:\n",
    "    al.append(a)\n",
    "    bl.append(b)"
   ]
  },
  {
   "cell_type": "code",
   "execution_count": null,
   "id": "571af984",
   "metadata": {},
   "outputs": [],
   "source": []
  },
  {
   "cell_type": "code",
   "execution_count": 56,
   "id": "1f2c0ad6",
   "metadata": {},
   "outputs": [
    {
     "data": {
      "image/png": "[encoded data removed]",
      "text/plain": [
       "<Figure size 720x432 with 1 Axes>"
      ]
     },
     "metadata": {
      "needs_background": "light"
     },
     "output_type": "display_data"
    }
   ],
   "source": [
    "plt.figure(figsize = (10,6))\n",
    "plt.barh(al,bl,color ='gold',edgecolor = 'k')#,linewidth = 3)\n",
    "plt.title(\"Top 20 words used in reviews\",fontsize = 16)          \n",
    "\n",
    "plt.show()"
   ]
  },
  {
   "cell_type": "code",
   "execution_count": 57,
   "id": "e058dff0",
   "metadata": {},
   "outputs": [],
   "source": [
    "from sklearn.feature_extraction.text import TfidfTransformer"
   ]
  },
  {
   "cell_type": "code",
   "execution_count": 58,
   "id": "24d6a83f",
   "metadata": {},
   "outputs": [],
   "source": [
    "tfidf_transformer = TfidfTransformer()"
   ]
  },
  {
   "cell_type": "code",
   "execution_count": 59,
   "id": "d04f155e",
   "metadata": {},
   "outputs": [],
   "source": [
    "results = tfidf_transformer.fit_transform(counts)"
   ]
  },
  {
   "cell_type": "code",
   "execution_count": 60,
   "id": "671145ed",
   "metadata": {},
   "outputs": [
    {
     "data": {
      "text/plain": [
       "<21178x20230 sparse matrix of type '<class 'numpy.float64'>'\n",
       "\twith 532515 stored elements in Compressed Sparse Row format>"
      ]
     },
     "execution_count": 60,
     "metadata": {},
     "output_type": "execute_result"
    }
   ],
   "source": [
    "results"
   ]
  },
  {
   "cell_type": "code",
   "execution_count": 61,
   "id": "38237212",
   "metadata": {},
   "outputs": [],
   "source": [
    "from sklearn.feature_extraction.text import TfidfVectorizer"
   ]
  },
  {
   "cell_type": "code",
   "execution_count": 62,
   "id": "2dadf63c",
   "metadata": {},
   "outputs": [],
   "source": [
    "tfidf = TfidfVectorizer(stop_words='english')"
   ]
  },
  {
   "cell_type": "code",
   "execution_count": 63,
   "id": "c9f7a655",
   "metadata": {},
   "outputs": [],
   "source": [
    "y = df['rating']\n",
    "X = df['text']"
   ]
  },
  {
   "cell_type": "code",
   "execution_count": 64,
   "id": "d053e487",
   "metadata": {},
   "outputs": [],
   "source": [
    "from sklearn.model_selection import train_test_split"
   ]
  },
  {
   "cell_type": "code",
   "execution_count": 65,
   "id": "0898d79f",
   "metadata": {},
   "outputs": [],
   "source": [
    "X_train, X_test, y_train, y_test = train_test_split(X, y, test_size=0.15, random_state=101)"
   ]
  },
  {
   "cell_type": "code",
   "execution_count": 66,
   "id": "8d7a0c45",
   "metadata": {},
   "outputs": [
    {
     "data": {
      "text/plain": [
       "TfidfVectorizer(stop_words='english')"
      ]
     },
     "execution_count": 66,
     "metadata": {},
     "output_type": "execute_result"
    }
   ],
   "source": [
    "tfidf.fit(X_train)"
   ]
  },
  {
   "cell_type": "code",
   "execution_count": 67,
   "id": "343c5c9d",
   "metadata": {},
   "outputs": [],
   "source": [
    "\n",
    "X_train_tfidf = tfidf.transform(X_train)\n",
    "X_test_tfidf = tfidf.transform(X_test)"
   ]
  },
  {
   "cell_type": "code",
   "execution_count": 68,
   "id": "af4777fe",
   "metadata": {},
   "outputs": [
    {
     "data": {
      "text/plain": [
       "<18001x18762 sparse matrix of type '<class 'numpy.float64'>'\n",
       "\twith 452572 stored elements in Compressed Sparse Row format>"
      ]
     },
     "execution_count": 68,
     "metadata": {},
     "output_type": "execute_result"
    }
   ],
   "source": [
    "X_train_tfidf"
   ]
  },
  {
   "cell_type": "code",
   "execution_count": 69,
   "id": "040525f6",
   "metadata": {},
   "outputs": [
    {
     "data": {
      "text/plain": [
       "MultinomialNB()"
      ]
     },
     "execution_count": 69,
     "metadata": {},
     "output_type": "execute_result"
    }
   ],
   "source": [
    "from sklearn.naive_bayes import MultinomialNB\n",
    "nb = MultinomialNB()\n",
    "nb.fit(X_train_tfidf,y_train)"
   ]
  },
  {
   "cell_type": "code",
   "execution_count": 70,
   "id": "66fc7e9b",
   "metadata": {},
   "outputs": [
    {
     "data": {
      "text/plain": [
       "LogisticRegression(max_iter=1000)"
      ]
     },
     "execution_count": 70,
     "metadata": {},
     "output_type": "execute_result"
    }
   ],
   "source": [
    "from sklearn.linear_model import LogisticRegression\n",
    "log = LogisticRegression(max_iter=1000)\n",
    "log.fit(X_train_tfidf,y_train)"
   ]
  },
  {
   "cell_type": "code",
   "execution_count": 71,
   "id": "7ab786e2",
   "metadata": {},
   "outputs": [
    {
     "data": {
      "text/plain": [
       "LinearSVC()"
      ]
     },
     "execution_count": 71,
     "metadata": {},
     "output_type": "execute_result"
    }
   ],
   "source": [
    "from sklearn.svm import LinearSVC\n",
    "svc = LinearSVC()\n",
    "svc.fit(X_train_tfidf,y_train)"
   ]
  },
  {
   "cell_type": "code",
   "execution_count": 72,
   "id": "35866cc4",
   "metadata": {},
   "outputs": [],
   "source": [
    "from sklearn.metrics import plot_confusion_matrix,classification_report"
   ]
  },
  {
   "cell_type": "code",
   "execution_count": 73,
   "id": "2c0060a9",
   "metadata": {},
   "outputs": [],
   "source": [
    "def report(model):\n",
    "    preds = model.predict(X_test_tfidf)\n",
    "    print(classification_report(y_test,preds))\n",
    "    plot_confusion_matrix(model,X_test_tfidf,y_test)"
   ]
  },
  {
   "cell_type": "code",
   "execution_count": 74,
   "id": "3d82dd0d",
   "metadata": {},
   "outputs": [
    {
     "name": "stdout",
     "output_type": "stream",
     "text": [
      "NB MODEL\n",
      "              precision    recall  f1-score   support\n",
      "\n",
      "           1       0.72      0.38      0.50       503\n",
      "           2       0.00      0.00      0.00       300\n",
      "           3       0.33      0.01      0.01       372\n",
      "           4       0.33      0.02      0.03       582\n",
      "           5       0.49      1.00      0.66      1420\n",
      "\n",
      "    accuracy                           0.51      3177\n",
      "   macro avg       0.38      0.28      0.24      3177\n",
      "weighted avg       0.43      0.51      0.38      3177\n",
      "\n"
     ]
    },
    {
     "name": "stderr",
     "output_type": "stream",
     "text": [
      "C:\\Users\\amink\\anaconda3\\lib\\site-packages\\sklearn\\metrics\\_classification.py:1248: UndefinedMetricWarning: Precision and F-score are ill-defined and being set to 0.0 in labels with no predicted samples. Use `zero_division` parameter to control this behavior.\n",
      "  _warn_prf(average, modifier, msg_start, len(result))\n",
      "C:\\Users\\amink\\anaconda3\\lib\\site-packages\\sklearn\\metrics\\_classification.py:1248: UndefinedMetricWarning: Precision and F-score are ill-defined and being set to 0.0 in labels with no predicted samples. Use `zero_division` parameter to control this behavior.\n",
      "  _warn_prf(average, modifier, msg_start, len(result))\n",
      "C:\\Users\\amink\\anaconda3\\lib\\site-packages\\sklearn\\metrics\\_classification.py:1248: UndefinedMetricWarning: Precision and F-score are ill-defined and being set to 0.0 in labels with no predicted samples. Use `zero_division` parameter to control this behavior.\n",
      "  _warn_prf(average, modifier, msg_start, len(result))\n"
     ]
    },
    {
     "data": {
      "image/png": "[encoded data removed]",
      "text/plain": [
       "<Figure size 432x288 with 2 Axes>"
      ]
     },
     "metadata": {
      "needs_background": "light"
     },
     "output_type": "display_data"
    }
   ],
   "source": [
    "print(\"NB MODEL\")\n",
    "report(nb)"
   ]
  },
  {
   "cell_type": "code",
   "execution_count": 75,
   "id": "49261d94",
   "metadata": {
    "scrolled": false
   },
   "outputs": [
    {
     "name": "stdout",
     "output_type": "stream",
     "text": [
      "Logistic Regression\n",
      "              precision    recall  f1-score   support\n",
      "\n",
      "           1       0.66      0.75      0.70       503\n",
      "           2       0.46      0.21      0.29       300\n",
      "           3       0.40      0.31      0.35       372\n",
      "           4       0.46      0.29      0.36       582\n",
      "           5       0.72      0.92      0.81      1420\n",
      "\n",
      "    accuracy                           0.64      3177\n",
      "   macro avg       0.54      0.50      0.50      3177\n",
      "weighted avg       0.60      0.64      0.61      3177\n",
      "\n"
     ]
    },
    {
     "data": {
      "image/png": "[encoded data removed]",
      "text/plain": [
       "<Figure size 432x288 with 2 Axes>"
      ]
     },
     "metadata": {
      "needs_background": "light"
     },
     "output_type": "display_data"
    }
   ],
   "source": [
    "print(\"Logistic Regression\")\n",
    "report(log)"
   ]
  },
  {
   "cell_type": "code",
   "execution_count": 76,
   "id": "6ba73dff",
   "metadata": {
    "scrolled": true
   },
   "outputs": [
    {
     "name": "stdout",
     "output_type": "stream",
     "text": [
      "SVC\n",
      "              precision    recall  f1-score   support\n",
      "\n",
      "           1       0.68      0.72      0.70       503\n",
      "           2       0.48      0.32      0.38       300\n",
      "           3       0.36      0.30      0.33       372\n",
      "           4       0.41      0.28      0.34       582\n",
      "           5       0.73      0.89      0.80      1420\n",
      "\n",
      "    accuracy                           0.63      3177\n",
      "   macro avg       0.53      0.50      0.51      3177\n",
      "weighted avg       0.60      0.63      0.60      3177\n",
      "\n"
     ]
    },
    {
     "data": {
      "image/png": "[encoded data removed]",
      "text/plain": [
       "<Figure size 432x288 with 2 Axes>"
      ]
     },
     "metadata": {
      "needs_background": "light"
     },
     "output_type": "display_data"
    }
   ],
   "source": [
    "print('SVC')\n",
    "report(svc)"
   ]
  },
  {
   "cell_type": "code",
   "execution_count": 77,
   "id": "6160ee78",
   "metadata": {},
   "outputs": [
    {
     "data": {
      "image/png": "[encoded data removed]",
      "text/plain": [
       "<Figure size 432x288 with 1 Axes>"
      ]
     },
     "metadata": {
      "needs_background": "light"
     },
     "output_type": "display_data"
    }
   ],
   "source": [
    "x=[1,2,3]\n",
    "y=[0.63,0.64,0.5]\n",
    "plt.title('Performance')\n",
    "tick_label=['Linear SVC','Logistic Regression','Multinomial NB']\n",
    "plt.ylabel('Accuracy')\n",
    "plt.xlabel('Classifiers')\n",
    "plt.bar(x,y,tick_label=tick_label,width=0.8,color=['#6890F0','#78C850','#C03028']);\n"
   ]
  },
  {
   "cell_type": "markdown",
   "id": "ac92aee2",
   "metadata": {},
   "source": [
    "Hexa color code for Seaborn:\n",
    "    \n",
    "'#78C850', # Grass\n",
    "'#F08030', # Fire\n",
    "'#6890F0', # Water\n",
    "'#A8B820', # Bug\n",
    "'#A8A878', # Normal\n",
    "'#A040A0', # Poison\n",
    "'#F8D030', # Electric\n",
    "'#E0C068', # Ground\n",
    "'#EE99AC', # Fairy\n",
    "'#C03028', # Fighting\n",
    "'#F85888', # Psychic\n",
    "'#B8A038', # Rock\n",
    "'#705898', # Ghost\n",
    "'#98D8D8', # Ice\n",
    "'#7038F8', # Dragon"
   ]
  },
  {
   "cell_type": "code",
   "execution_count": null,
   "id": "bfe9304d",
   "metadata": {},
   "outputs": [],
   "source": []
  }
 ],
 "metadata": {
  "kernelspec": {
   "display_name": "Python 3 (ipykernel)",
   "language": "python",
   "name": "python3"
  },
  "language_info": {
   "codemirror_mode": {
    "name": "ipython",
    "version": 3
   },
   "file_extension": ".py",
   "mimetype": "text/x-python",
   "name": "python",
   "nbconvert_exporter": "python",
   "pygments_lexer": "ipython3",
   "version": "3.9.7"
  }
 },
 "nbformat": 4,
 "nbformat_minor": 5
}
