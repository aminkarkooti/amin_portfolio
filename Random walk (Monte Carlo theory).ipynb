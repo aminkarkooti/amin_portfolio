{
 "cells": [
  {
   "cell_type": "code",
   "execution_count": null,
   "id": "be725d8e",
   "metadata": {},
   "outputs": [],
   "source": [
    "\n",
    "import numpy as np\n",
    "import random\n",
    "\n",
    "def randomwalk(n_step):\n",
    "\n",
    "    x = np.zeros(n_step)\n",
    "    y = np.zeros(n_step)\n",
    "    count= np.zeros(n_step)\n",
    "    #Start position\n",
    "    x[0]=13\n",
    "    y[0]=13\n",
    "    \n",
    "    directions = [\"UP\", \"DOWN\", \"LEFT\", \"RIGHT\"]\n",
    "    step_list= [1,2,3]\n",
    "    for i in range(1, n_step):\n",
    "        step = random.choice(directions)\n",
    "        step_size= random.choice(step_list)\n",
    "    \n",
    "        if step == \"RIGHT\":\n",
    "            x[i] = x[i - 1] + step_size\n",
    "            y[i] = y[i - 1]\n",
    "        elif step == \"LEFT\":\n",
    "            x[i] = x[i - 1] - step_size\n",
    "            y[i] = y[i - 1]\n",
    "        elif step == \"UP\":\n",
    "            x[i] = x[i - 1]\n",
    "            y[i] = y[i - 1] + step_size\n",
    "        elif step == \"DOWN\":\n",
    "            x[i] = x[i - 1]\n",
    "            y[i] = y[i - 1] - step_size\n",
    "                     \n",
    "    return x[-1], y[-1]\n",
    "\n",
    "iter = 10000\n",
    "n_step = 50\n",
    "x_position= np.zeros(iter)\n",
    "y_position= np.zeros(iter)\n",
    "count_t= np.zeros(n_step)\n",
    "for j in range(iter):\n",
    "\n",
    "     x_position[j],y_position[j] = randomwalk(n_step)\n",
    "           \n",
    "x_avg = x_position.mean()\n",
    "y_avg = y_position.mean()\n",
    "\n",
    "x_std = x_position.std()\n",
    "y_std = y_position.std()\n",
    "\n",
    "print(f'The estimated final location for (x,y) is: {x_avg},{y_avg} with the standard devision of: {x_std},{y_std}.')"
   ]
  }
 ],
 "metadata": {
  "kernelspec": {
   "display_name": "Python 3 (ipykernel)",
   "language": "python",
   "name": "python3"
  },
  "language_info": {
   "codemirror_mode": {
    "name": "ipython",
    "version": 3
   },
   "file_extension": ".py",
   "mimetype": "text/x-python",
   "name": "python",
   "nbconvert_exporter": "python",
   "pygments_lexer": "ipython3",
   "version": "3.9.7"
  }
 },
 "nbformat": 4,
 "nbformat_minor": 5
}
